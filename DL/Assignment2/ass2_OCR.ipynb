{
 "cells": [
  {
   "cell_type": "code",
   "execution_count": 1,
   "id": "89caeeeb-5085-4441-ba96-b2dd7a216018",
   "metadata": {},
   "outputs": [],
   "source": [
    "import pandas as pd\n",
    "import numpy as np\n",
    "from sklearn.model_selection import train_test_split\n",
    "from sklearn.preprocessing import LabelEncoder, StandardScaler\n",
    "import tensorflow as tf\n",
    "from tensorflow.keras.utils import to_categorical\n",
    "from tensorflow.keras.models import Sequential\n",
    "from tensorflow.keras.layers import Dense\n"
   ]
  },
  {
   "cell_type": "code",
   "execution_count": 2,
   "id": "084b9a41-56bf-489c-ad68-409c2ad0ed1d",
   "metadata": {},
   "outputs": [
    {
     "name": "stdout",
     "output_type": "stream",
     "text": [
      "  letter  x-box  y-box  width  high  onpix  x-bar  y-bar  x2bar  y2bar  xybar  \\\n",
      "0      T      2      8      3     5      1      8     13      0      6      6   \n",
      "1      I      5     12      3     7      2     10      5      5      4     13   \n",
      "2      D      4     11      6     8      6     10      6      2      6     10   \n",
      "3      N      7     11      6     6      3      5      9      4      6      4   \n",
      "4      G      2      1      3     1      1      8      6      6      6      6   \n",
      "\n",
      "   x2ybr  xy2br  x-ege  xegvy  y-ege  yegvx  \n",
      "0     10      8      0      8      0      8  \n",
      "1      3      9      2      8      4     10  \n",
      "2      3      7      3      7      3      9  \n",
      "3      4     10      6     10      2      8  \n",
      "4      5      9      1      7      5     10  \n"
     ]
    }
   ],
   "source": [
    "url = \"https://archive.ics.uci.edu/ml/machine-learning-databases/letter-recognition/letter-recognition.data\"\n",
    "\n",
    "# Column names based on UCI documentation\n",
    "columns = ['letter', 'x-box', 'y-box', 'width', 'high', 'onpix', 'x-bar', 'y-bar',\n",
    "           'x2bar', 'y2bar', 'xybar', 'x2ybr', 'xy2br', 'x-ege', 'xegvy', 'y-ege', 'yegvx']\n",
    "\n",
    "df = pd.read_csv(url, names=columns)\n",
    "\n",
    "print(df.head())\n"
   ]
  },
  {
   "cell_type": "code",
   "execution_count": 3,
   "id": "77ef1bc3-23d0-4aad-8000-e31d5b5b1730",
   "metadata": {},
   "outputs": [],
   "source": [
    "# Split features and target\n",
    "X = df.drop('letter', axis=1)\n",
    "y = df['letter']\n",
    "\n",
    "# Encode labels to 0-25\n",
    "label_encoder = LabelEncoder()\n",
    "y_encoded = label_encoder.fit_transform(y)\n",
    "\n",
    "# One-hot encode target\n",
    "y_categorical = to_categorical(y_encoded)\n",
    "\n",
    "# Train-test split\n",
    "X_train, X_test, y_train, y_test = train_test_split(X, y_categorical, test_size=0.2, random_state=42)\n",
    "\n",
    "# Standardize features\n",
    "scaler = StandardScaler()\n",
    "X_train = scaler.fit_transform(X_train)\n",
    "X_test = scaler.transform(X_test)\n"
   ]
  },
  {
   "cell_type": "code",
   "execution_count": 4,
   "id": "da1b890c-0ef7-4f5c-8263-4b128de8e1f1",
   "metadata": {},
   "outputs": [
    {
     "name": "stderr",
     "output_type": "stream",
     "text": [
      "C:\\Python312\\Lib\\site-packages\\keras\\src\\layers\\core\\dense.py:86: UserWarning: Do not pass an `input_shape`/`input_dim` argument to a layer. When using Sequential models, prefer using an `Input(shape)` object as the first layer in the model instead.\n",
      "  super().__init__(activity_regularizer=activity_regularizer, **kwargs)\n"
     ]
    }
   ],
   "source": [
    "model = Sequential([\n",
    "    Dense(128, activation='relu', input_shape=(X_train.shape[1],)),\n",
    "    Dense(64, activation='relu'),\n",
    "    Dense(26, activation='softmax')  # 26 classes for A-Z\n",
    "])\n"
   ]
  },
  {
   "cell_type": "code",
   "execution_count": 5,
   "id": "ed06210c-475d-433d-8dca-a1b6542bff66",
   "metadata": {},
   "outputs": [],
   "source": [
    "model.compile(optimizer='adam',\n",
    "              loss='categorical_crossentropy',\n",
    "              metrics=['accuracy'])\n"
   ]
  },
  {
   "cell_type": "code",
   "execution_count": 6,
   "id": "23bc2e7f-f81d-4fdd-af08-27c9b79839f3",
   "metadata": {},
   "outputs": [
    {
     "name": "stdout",
     "output_type": "stream",
     "text": [
      "Epoch 1/20\n",
      "\u001b[1m450/450\u001b[0m \u001b[32m━━━━━━━━━━━━━━━━━━━━\u001b[0m\u001b[37m\u001b[0m \u001b[1m2s\u001b[0m 2ms/step - accuracy: 0.4286 - loss: 2.1562 - val_accuracy: 0.7494 - val_loss: 0.8448\n",
      "Epoch 2/20\n",
      "\u001b[1m450/450\u001b[0m \u001b[32m━━━━━━━━━━━━━━━━━━━━\u001b[0m\u001b[37m\u001b[0m \u001b[1m1s\u001b[0m 1ms/step - accuracy: 0.7797 - loss: 0.7505 - val_accuracy: 0.8294 - val_loss: 0.5820\n",
      "Epoch 3/20\n",
      "\u001b[1m450/450\u001b[0m \u001b[32m━━━━━━━━━━━━━━━━━━━━\u001b[0m\u001b[37m\u001b[0m \u001b[1m1s\u001b[0m 1ms/step - accuracy: 0.8499 - loss: 0.5414 - val_accuracy: 0.8687 - val_loss: 0.4603\n",
      "Epoch 4/20\n",
      "\u001b[1m450/450\u001b[0m \u001b[32m━━━━━━━━━━━━━━━━━━━━\u001b[0m\u001b[37m\u001b[0m \u001b[1m1s\u001b[0m 1ms/step - accuracy: 0.8744 - loss: 0.4322 - val_accuracy: 0.8775 - val_loss: 0.3985\n",
      "Epoch 5/20\n",
      "\u001b[1m450/450\u001b[0m \u001b[32m━━━━━━━━━━━━━━━━━━━━\u001b[0m\u001b[37m\u001b[0m \u001b[1m1s\u001b[0m 1ms/step - accuracy: 0.8966 - loss: 0.3621 - val_accuracy: 0.8988 - val_loss: 0.3311\n",
      "Epoch 6/20\n",
      "\u001b[1m450/450\u001b[0m \u001b[32m━━━━━━━━━━━━━━━━━━━━\u001b[0m\u001b[37m\u001b[0m \u001b[1m1s\u001b[0m 1ms/step - accuracy: 0.9094 - loss: 0.3073 - val_accuracy: 0.9150 - val_loss: 0.2948\n",
      "Epoch 7/20\n",
      "\u001b[1m450/450\u001b[0m \u001b[32m━━━━━━━━━━━━━━━━━━━━\u001b[0m\u001b[37m\u001b[0m \u001b[1m1s\u001b[0m 1ms/step - accuracy: 0.9219 - loss: 0.2650 - val_accuracy: 0.9187 - val_loss: 0.2664\n",
      "Epoch 8/20\n",
      "\u001b[1m450/450\u001b[0m \u001b[32m━━━━━━━━━━━━━━━━━━━━\u001b[0m\u001b[37m\u001b[0m \u001b[1m1s\u001b[0m 1ms/step - accuracy: 0.9295 - loss: 0.2369 - val_accuracy: 0.9200 - val_loss: 0.2640\n",
      "Epoch 9/20\n",
      "\u001b[1m450/450\u001b[0m \u001b[32m━━━━━━━━━━━━━━━━━━━━\u001b[0m\u001b[37m\u001b[0m \u001b[1m1s\u001b[0m 1ms/step - accuracy: 0.9391 - loss: 0.2105 - val_accuracy: 0.9300 - val_loss: 0.2313\n",
      "Epoch 10/20\n",
      "\u001b[1m450/450\u001b[0m \u001b[32m━━━━━━━━━━━━━━━━━━━━\u001b[0m\u001b[37m\u001b[0m \u001b[1m1s\u001b[0m 1ms/step - accuracy: 0.9423 - loss: 0.1949 - val_accuracy: 0.9344 - val_loss: 0.2119\n",
      "Epoch 11/20\n",
      "\u001b[1m450/450\u001b[0m \u001b[32m━━━━━━━━━━━━━━━━━━━━\u001b[0m\u001b[37m\u001b[0m \u001b[1m1s\u001b[0m 1ms/step - accuracy: 0.9494 - loss: 0.1712 - val_accuracy: 0.9381 - val_loss: 0.2032\n",
      "Epoch 12/20\n",
      "\u001b[1m450/450\u001b[0m \u001b[32m━━━━━━━━━━━━━━━━━━━━\u001b[0m\u001b[37m\u001b[0m \u001b[1m1s\u001b[0m 1ms/step - accuracy: 0.9513 - loss: 0.1603 - val_accuracy: 0.9337 - val_loss: 0.1911\n",
      "Epoch 13/20\n",
      "\u001b[1m450/450\u001b[0m \u001b[32m━━━━━━━━━━━━━━━━━━━━\u001b[0m\u001b[37m\u001b[0m \u001b[1m1s\u001b[0m 1ms/step - accuracy: 0.9571 - loss: 0.1479 - val_accuracy: 0.9381 - val_loss: 0.1951\n",
      "Epoch 14/20\n",
      "\u001b[1m450/450\u001b[0m \u001b[32m━━━━━━━━━━━━━━━━━━━━\u001b[0m\u001b[37m\u001b[0m \u001b[1m1s\u001b[0m 1ms/step - accuracy: 0.9596 - loss: 0.1316 - val_accuracy: 0.9444 - val_loss: 0.1829\n",
      "Epoch 15/20\n",
      "\u001b[1m450/450\u001b[0m \u001b[32m━━━━━━━━━━━━━━━━━━━━\u001b[0m\u001b[37m\u001b[0m \u001b[1m1s\u001b[0m 1ms/step - accuracy: 0.9618 - loss: 0.1281 - val_accuracy: 0.9444 - val_loss: 0.1709\n",
      "Epoch 16/20\n",
      "\u001b[1m450/450\u001b[0m \u001b[32m━━━━━━━━━━━━━━━━━━━━\u001b[0m\u001b[37m\u001b[0m \u001b[1m1s\u001b[0m 1ms/step - accuracy: 0.9663 - loss: 0.1123 - val_accuracy: 0.9469 - val_loss: 0.1599\n",
      "Epoch 17/20\n",
      "\u001b[1m450/450\u001b[0m \u001b[32m━━━━━━━━━━━━━━━━━━━━\u001b[0m\u001b[37m\u001b[0m \u001b[1m1s\u001b[0m 1ms/step - accuracy: 0.9718 - loss: 0.1015 - val_accuracy: 0.9419 - val_loss: 0.1794\n",
      "Epoch 18/20\n",
      "\u001b[1m450/450\u001b[0m \u001b[32m━━━━━━━━━━━━━━━━━━━━\u001b[0m\u001b[37m\u001b[0m \u001b[1m1s\u001b[0m 1ms/step - accuracy: 0.9701 - loss: 0.1006 - val_accuracy: 0.9500 - val_loss: 0.1625\n",
      "Epoch 19/20\n",
      "\u001b[1m450/450\u001b[0m \u001b[32m━━━━━━━━━━━━━━━━━━━━\u001b[0m\u001b[37m\u001b[0m \u001b[1m1s\u001b[0m 1ms/step - accuracy: 0.9738 - loss: 0.0936 - val_accuracy: 0.9531 - val_loss: 0.1501\n",
      "Epoch 20/20\n",
      "\u001b[1m450/450\u001b[0m \u001b[32m━━━━━━━━━━━━━━━━━━━━\u001b[0m\u001b[37m\u001b[0m \u001b[1m1s\u001b[0m 1ms/step - accuracy: 0.9748 - loss: 0.0846 - val_accuracy: 0.9525 - val_loss: 0.1525\n"
     ]
    }
   ],
   "source": [
    "history = model.fit(X_train, y_train, epochs=20, batch_size=32, validation_split=0.1)\n"
   ]
  },
  {
   "cell_type": "code",
   "execution_count": 7,
   "id": "0b0e5dc8-201e-481c-aced-60c0baade59a",
   "metadata": {},
   "outputs": [
    {
     "name": "stdout",
     "output_type": "stream",
     "text": [
      "\u001b[1m125/125\u001b[0m \u001b[32m━━━━━━━━━━━━━━━━━━━━\u001b[0m\u001b[37m\u001b[0m \u001b[1m0s\u001b[0m 914us/step - accuracy: 0.9497 - loss: 0.1578\n",
      "Test Accuracy: 0.9475\n"
     ]
    }
   ],
   "source": [
    "loss, accuracy = model.evaluate(X_test, y_test)\n",
    "print(f\"Test Accuracy: {accuracy:.4f}\")\n"
   ]
  },
  {
   "cell_type": "code",
   "execution_count": 8,
   "id": "33d8ae4f-21b2-4f1c-a2ed-211194a22bee",
   "metadata": {},
   "outputs": [
    {
     "name": "stdout",
     "output_type": "stream",
     "text": [
      "\u001b[1m1/1\u001b[0m \u001b[32m━━━━━━━━━━━━━━━━━━━━\u001b[0m\u001b[37m\u001b[0m \u001b[1m0s\u001b[0m 40ms/step\n",
      "Predicted: ['X' 'L' 'A' 'E' 'Q']\n",
      "Actual:    ['T' 'L' 'A' 'E' 'Q']\n"
     ]
    }
   ],
   "source": [
    "import numpy as np\n",
    "\n",
    "predictions = model.predict(X_test[:5])\n",
    "predicted_classes = np.argmax(predictions, axis=1)\n",
    "actual_classes = np.argmax(y_test[:5], axis=1)\n",
    "\n",
    "print(\"Predicted:\", label_encoder.inverse_transform(predicted_classes))\n",
    "print(\"Actual:   \", label_encoder.inverse_transform(actual_classes))\n"
   ]
  },
  {
   "cell_type": "code",
   "execution_count": 14,
   "id": "2b749f2e-0c80-4394-b5e3-95bb658e4691",
   "metadata": {},
   "outputs": [],
   "source": [
    "# # Predict class probabilities\n",
    "# y_pred_probs = model.predict(X_test)\n",
    "\n",
    "# # Convert predictions and true labels from one-hot to class labels\n",
    "# y_pred_classes = np.argmax(y_pred_probs, axis=1)\n",
    "# y_true_classes = np.argmax(y_test, axis=1)\n"
   ]
  },
  {
   "cell_type": "code",
   "execution_count": 13,
   "id": "2384c783-20c2-4dfb-a567-778036fa7450",
   "metadata": {},
   "outputs": [],
   "source": [
    "# from sklearn.metrics import classification_report, confusion_matrix, accuracy_score, precision_score, recall_score, f1_score\n",
    "\n",
    "# # Accuracy\n",
    "# acc = accuracy_score(y_true_classes, y_pred_classes)\n",
    "\n",
    "# # Precision, Recall, F1-score (macro, micro, weighted)\n",
    "# precision_macro = precision_score(y_true_classes, y_pred_classes, average='macro')\n",
    "# recall_macro = recall_score(y_true_classes, y_pred_classes, average='macro')\n",
    "# f1_macro = f1_score(y_true_classes, y_pred_classes, average='macro')\n",
    "\n",
    "# # Full classification report (includes per-class metrics)\n",
    "# report = classification_report(y_true_classes, y_pred_classes, target_names=label_encoder.classes_)\n",
    "\n",
    "# # Confusion matrix\n",
    "# conf_matrix = confusion_matrix(y_true_classes, y_pred_classes)\n"
   ]
  },
  {
   "cell_type": "code",
   "execution_count": 17,
   "id": "047a3d8f-8f2e-48ec-a5f9-47f24d8d38ea",
   "metadata": {},
   "outputs": [],
   "source": [
    "# print(f\"Accuracy: {acc:.4f}\")\n",
    "# print(f\"Macro Precision: {precision_macro:.4f}\")\n",
    "# print(f\"Macro Recall: {recall_macro:.4f}\")\n",
    "# print(f\"Macro F1 Score: {f1_macro:.4f}\")\n",
    "\n",
    "# print(\"\\nClassification Report:\")\n",
    "# print(report)\n",
    "\n",
    "# print(\"\\nConfusion Matrix:\")\n",
    "# print(conf_matrix)\n"
   ]
  },
  {
   "cell_type": "code",
   "execution_count": null,
   "id": "ad6ed9d4-b44e-48a4-98f6-2c75b463d29d",
   "metadata": {},
   "outputs": [],
   "source": []
  }
 ],
 "metadata": {
  "kernelspec": {
   "display_name": "Python 3 (ipykernel)",
   "language": "python",
   "name": "python3"
  },
  "language_info": {
   "codemirror_mode": {
    "name": "ipython",
    "version": 3
   },
   "file_extension": ".py",
   "mimetype": "text/x-python",
   "name": "python",
   "nbconvert_exporter": "python",
   "pygments_lexer": "ipython3",
   "version": "3.12.1"
  }
 },
 "nbformat": 4,
 "nbformat_minor": 5
}
