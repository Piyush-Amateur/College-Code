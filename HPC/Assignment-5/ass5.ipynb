{
 "cells": [
  {
   "cell_type": "code",
   "execution_count": 1,
   "id": "b0d9e801-a23d-45e7-a004-3ca592f1068c",
   "metadata": {},
   "outputs": [],
   "source": [
    "import tensorflow as tf\n"
   ]
  },
  {
   "cell_type": "code",
   "execution_count": 2,
   "id": "31c59406-a397-4f13-a169-5fd84ece1013",
   "metadata": {},
   "outputs": [
    {
     "name": "stderr",
     "output_type": "stream",
     "text": [
      "C:\\Python312\\Lib\\site-packages\\keras\\src\\layers\\convolutional\\base_conv.py:99: UserWarning: Do not pass an `input_shape`/`input_dim` argument to a layer. When using Sequential models, prefer using an `Input(shape)` object as the first layer in the model instead.\n",
      "  super().__init__(\n"
     ]
    }
   ],
   "source": [
    "model = tf.keras.models.Sequential([\n",
    "    tf.keras.layers.Conv2D(32, (3,3), activation='relu', input_shape =(28,28,1)),\n",
    "    tf.keras.layers.MaxPooling2D((2, 2)),\n",
    "    tf.keras.layers.Flatten(),\n",
    "    tf.keras.layers.Dense(10, activation='softmax')\n",
    "])"
   ]
  },
  {
   "cell_type": "code",
   "execution_count": 3,
   "id": "929a69ef-2dea-40c6-afd2-c002fa5ca1d1",
   "metadata": {},
   "outputs": [
    {
     "name": "stdout",
     "output_type": "stream",
     "text": [
      "Downloading data from https://storage.googleapis.com/tensorflow/tf-keras-datasets/mnist.npz\n",
      "\u001b[1m11490434/11490434\u001b[0m \u001b[32m━━━━━━━━━━━━━━━━━━━━\u001b[0m\u001b[37m\u001b[0m \u001b[1m3s\u001b[0m 0us/step\n"
     ]
    }
   ],
   "source": [
    "mnist = tf.keras.datasets.mnist\n",
    "(x_train, y_train), (x_test, y_test) = mnist.load_data()\n",
    "x_train, x_test = x_train / 255.0, x_test/255.0"
   ]
  },
  {
   "cell_type": "code",
   "execution_count": 5,
   "id": "46116850-b8b9-427d-b797-4627826ecc6c",
   "metadata": {},
   "outputs": [
    {
     "name": "stdout",
     "output_type": "stream",
     "text": [
      "Note: you may need to restart the kernel to use updated packages.\n"
     ]
    },
    {
     "name": "stderr",
     "output_type": "stream",
     "text": [
      "WARNING: Ignoring invalid distribution ~ (C:\\Python312\\Lib\\site-packages)\n",
      "WARNING: Ignoring invalid distribution ~ip (C:\\Python312\\Lib\\site-packages)\n",
      "WARNING: Ignoring invalid distribution ~~p (C:\\Python312\\Lib\\site-packages)\n",
      "WARNING: Ignoring invalid distribution ~ (C:\\Python312\\Lib\\site-packages)\n",
      "WARNING: Ignoring invalid distribution ~ip (C:\\Python312\\Lib\\site-packages)\n",
      "WARNING: Ignoring invalid distribution ~~p (C:\\Python312\\Lib\\site-packages)\n",
      "WARNING: Ignoring invalid distribution ~ (C:\\Python312\\Lib\\site-packages)\n",
      "WARNING: Ignoring invalid distribution ~ip (C:\\Python312\\Lib\\site-packages)\n",
      "WARNING: Ignoring invalid distribution ~~p (C:\\Python312\\Lib\\site-packages)\n",
      "\n",
      "[notice] A new release of pip is available: 24.2 -> 25.1.1\n",
      "[notice] To update, run: python.exe -m pip install --upgrade pip\n"
     ]
    },
    {
     "name": "stdout",
     "output_type": "stream",
     "text": [
      "Collecting mpi4py\n",
      "  Downloading mpi4py-4.0.3-cp312-cp312-win_amd64.whl.metadata (10 kB)\n",
      "Downloading mpi4py-4.0.3-cp312-cp312-win_amd64.whl (1.7 MB)\n",
      "   ---------------------------------------- 0.0/1.7 MB ? eta -:--:--\n",
      "   ---------------------------------------- 0.0/1.7 MB ? eta -:--:--\n",
      "   ------ --------------------------------- 0.3/1.7 MB ? eta -:--:--\n",
      "   ------------ --------------------------- 0.5/1.7 MB 1.1 MB/s eta 0:00:02\n",
      "   ------------------ --------------------- 0.8/1.7 MB 1.2 MB/s eta 0:00:01\n",
      "   ------------------------ --------------- 1.0/1.7 MB 1.2 MB/s eta 0:00:01\n",
      "   ------------------------------ --------- 1.3/1.7 MB 1.3 MB/s eta 0:00:01\n",
      "   ---------------------------------------- 1.7/1.7 MB 1.4 MB/s eta 0:00:00\n",
      "Installing collected packages: mpi4py\n",
      "Successfully installed mpi4py-4.0.3\n"
     ]
    }
   ],
   "source": [
    "pip install mpi4py\n"
   ]
  },
  {
   "cell_type": "code",
   "execution_count": 6,
   "id": "4cc43ac6-4bae-4aa9-a09b-13a8a51bac8a",
   "metadata": {},
   "outputs": [
    {
     "ename": "RuntimeError",
     "evalue": "cannot load MPI library\nCould not find module 'C:\\Users\\Lenovo\\AppData\\Roaming\\Python\\DLLs' (or one of its dependencies). Try using the full path with constructor syntax.\nCould not find module 'C:\\Users\\Lenovo\\AppData\\Roaming\\Python\\Library\\bin' (or one of its dependencies). Try using the full path with constructor syntax.\nCould not find module 'C:\\Python312\\DLLs\\impi.dll' (or one of its dependencies). Try using the full path with constructor syntax.\nCould not find module 'C:\\Python312\\DLLs\\msmpi.dll' (or one of its dependencies). Try using the full path with constructor syntax.\nCould not find module 'C:\\Python312\\Library\\bin' (or one of its dependencies). Try using the full path with constructor syntax.\nCould not find module 'impi.dll' (or one of its dependencies). Try using the full path with constructor syntax.\nCould not find module 'msmpi.dll' (or one of its dependencies). Try using the full path with constructor syntax.",
     "output_type": "error",
     "traceback": [
      "\u001b[1;31m---------------------------------------------------------------------------\u001b[0m",
      "\u001b[1;31mRuntimeError\u001b[0m                              Traceback (most recent call last)",
      "Cell \u001b[1;32mIn[6], line 1\u001b[0m\n\u001b[1;32m----> 1\u001b[0m \u001b[38;5;28;01mfrom\u001b[39;00m \u001b[38;5;21;01mmpi4py\u001b[39;00m \u001b[38;5;28;01mimport\u001b[39;00m MPI\n\u001b[0;32m      2\u001b[0m comm \u001b[38;5;241m=\u001b[39m MPI\u001b[38;5;241m.\u001b[39mCOMM_WORLD\n\u001b[0;32m      3\u001b[0m rank \u001b[38;5;241m=\u001b[39m comm\u001b[38;5;241m.\u001b[39mGet_rank()\n",
      "File \u001b[1;32m<frozen importlib._bootstrap>:1360\u001b[0m, in \u001b[0;36m_find_and_load\u001b[1;34m(name, import_)\u001b[0m\n",
      "File \u001b[1;32m<frozen importlib._bootstrap>:1322\u001b[0m, in \u001b[0;36m_find_and_load_unlocked\u001b[1;34m(name, import_)\u001b[0m\n",
      "File \u001b[1;32m<frozen importlib._bootstrap>:1262\u001b[0m, in \u001b[0;36m_find_spec\u001b[1;34m(name, path, target)\u001b[0m\n",
      "File \u001b[1;32mC:\\Python312\\Lib\\site-packages\\mpi4py\\_mpiabi.py:246\u001b[0m, in \u001b[0;36m_Finder.find_spec\u001b[1;34m(cls, fullname, path, target)\u001b[0m\n\u001b[0;32m    244\u001b[0m \u001b[38;5;250m\u001b[39m\u001b[38;5;124;03m\"\"\"Find MPI ABI extension module spec.\"\"\"\u001b[39;00m\n\u001b[0;32m    245\u001b[0m \u001b[38;5;66;03m# pylint: disable=unused-argument\u001b[39;00m\n\u001b[1;32m--> 246\u001b[0m mpiabi_suffix \u001b[38;5;241m=\u001b[39m \u001b[43m_get_mpiabi_suffix\u001b[49m\u001b[43m(\u001b[49m\u001b[43mfullname\u001b[49m\u001b[43m)\u001b[49m\n\u001b[0;32m    247\u001b[0m \u001b[38;5;28;01mif\u001b[39;00m mpiabi_suffix \u001b[38;5;129;01mis\u001b[39;00m \u001b[38;5;28;01mNone\u001b[39;00m:\n\u001b[0;32m    248\u001b[0m     \u001b[38;5;28;01mreturn\u001b[39;00m \u001b[38;5;28;01mNone\u001b[39;00m\n",
      "File \u001b[1;32mC:\\Python312\\Lib\\site-packages\\mpi4py\\_mpiabi.py:228\u001b[0m, in \u001b[0;36m_get_mpiabi_suffix\u001b[1;34m(module)\u001b[0m\n\u001b[0;32m    226\u001b[0m \u001b[38;5;28;01mif\u001b[39;00m module \u001b[38;5;129;01mnot\u001b[39;00m \u001b[38;5;129;01min\u001b[39;00m _registry:\n\u001b[0;32m    227\u001b[0m     \u001b[38;5;28;01mreturn\u001b[39;00m \u001b[38;5;28;01mNone\u001b[39;00m\n\u001b[1;32m--> 228\u001b[0m version, family \u001b[38;5;241m=\u001b[39m \u001b[43m_get_mpiabi\u001b[49m\u001b[43m(\u001b[49m\u001b[43m)\u001b[49m\n\u001b[0;32m    229\u001b[0m versions \u001b[38;5;241m=\u001b[39m _registry[module]\u001b[38;5;241m.\u001b[39mget(family)\n\u001b[0;32m    230\u001b[0m \u001b[38;5;28;01mif\u001b[39;00m versions:\n",
      "File \u001b[1;32mC:\\Python312\\Lib\\site-packages\\mpi4py\\_mpiabi.py:209\u001b[0m, in \u001b[0;36m_get_mpiabi\u001b[1;34m()\u001b[0m\n\u001b[0;32m    207\u001b[0m     version, family \u001b[38;5;241m=\u001b[39m _get_mpiabi_from_string(string)\n\u001b[0;32m    208\u001b[0m \u001b[38;5;28;01melse\u001b[39;00m:\n\u001b[1;32m--> 209\u001b[0m     version, family \u001b[38;5;241m=\u001b[39m \u001b[43m_get_mpiabi_from_libmpi\u001b[49m\u001b[43m(\u001b[49m\u001b[43mlibmpi\u001b[49m\u001b[43m)\u001b[49m\n\u001b[0;32m    210\u001b[0m _get_mpiabi\u001b[38;5;241m.\u001b[39mversion \u001b[38;5;241m=\u001b[39m version  \u001b[38;5;66;03m# pyright: ignore\u001b[39;00m\n\u001b[0;32m    211\u001b[0m _get_mpiabi\u001b[38;5;241m.\u001b[39mfamily \u001b[38;5;241m=\u001b[39m family  \u001b[38;5;66;03m# pyright: ignore\u001b[39;00m\n",
      "File \u001b[1;32mC:\\Python312\\Lib\\site-packages\\mpi4py\\_mpiabi.py:153\u001b[0m, in \u001b[0;36m_get_mpiabi_from_libmpi\u001b[1;34m(libmpi)\u001b[0m\n\u001b[0;32m    150\u001b[0m \u001b[38;5;28;01mdef\u001b[39;00m \u001b[38;5;21m_get_mpiabi_from_libmpi\u001b[39m(libmpi\u001b[38;5;241m=\u001b[39m\u001b[38;5;28;01mNone\u001b[39;00m):\n\u001b[0;32m    151\u001b[0m     \u001b[38;5;66;03m# pylint: disable=import-outside-toplevel\u001b[39;00m\n\u001b[0;32m    152\u001b[0m     \u001b[38;5;28;01mimport\u001b[39;00m \u001b[38;5;21;01mctypes\u001b[39;00m \u001b[38;5;28;01mas\u001b[39;00m \u001b[38;5;21;01mct\u001b[39;00m\n\u001b[1;32m--> 153\u001b[0m     lib \u001b[38;5;241m=\u001b[39m \u001b[43m_dlopen_libmpi\u001b[49m\u001b[43m(\u001b[49m\u001b[43mlibmpi\u001b[49m\u001b[43m)\u001b[49m\n\u001b[0;32m    154\u001b[0m     lib\u001b[38;5;241m.\u001b[39mMPI_Get_version\u001b[38;5;241m.\u001b[39mrestype \u001b[38;5;241m=\u001b[39m ct\u001b[38;5;241m.\u001b[39mc_int\n\u001b[0;32m    155\u001b[0m     lib\u001b[38;5;241m.\u001b[39mMPI_Get_version\u001b[38;5;241m.\u001b[39margtypes \u001b[38;5;241m=\u001b[39m [ct\u001b[38;5;241m.\u001b[39mPOINTER(ct\u001b[38;5;241m.\u001b[39mc_int)] \u001b[38;5;241m*\u001b[39m \u001b[38;5;241m2\u001b[39m\n",
      "File \u001b[1;32mC:\\Python312\\Lib\\site-packages\\mpi4py\\_mpiabi.py:144\u001b[0m, in \u001b[0;36m_dlopen_libmpi\u001b[1;34m(libmpi)\u001b[0m\n\u001b[0;32m    142\u001b[0m     \u001b[38;5;28;01mexcept\u001b[39;00m \u001b[38;5;167;01mAttributeError\u001b[39;00m \u001b[38;5;28;01mas\u001b[39;00m exc:\n\u001b[0;32m    143\u001b[0m         errors\u001b[38;5;241m.\u001b[39mappend(\u001b[38;5;28mstr\u001b[39m(exc))\n\u001b[1;32m--> 144\u001b[0m \u001b[38;5;28;01mraise\u001b[39;00m \u001b[38;5;167;01mRuntimeError\u001b[39;00m(\u001b[38;5;124m\"\u001b[39m\u001b[38;5;130;01m\\n\u001b[39;00m\u001b[38;5;124m\"\u001b[39m\u001b[38;5;241m.\u001b[39mjoin(errors))\n",
      "\u001b[1;31mRuntimeError\u001b[0m: cannot load MPI library\nCould not find module 'C:\\Users\\Lenovo\\AppData\\Roaming\\Python\\DLLs' (or one of its dependencies). Try using the full path with constructor syntax.\nCould not find module 'C:\\Users\\Lenovo\\AppData\\Roaming\\Python\\Library\\bin' (or one of its dependencies). Try using the full path with constructor syntax.\nCould not find module 'C:\\Python312\\DLLs\\impi.dll' (or one of its dependencies). Try using the full path with constructor syntax.\nCould not find module 'C:\\Python312\\DLLs\\msmpi.dll' (or one of its dependencies). Try using the full path with constructor syntax.\nCould not find module 'C:\\Python312\\Library\\bin' (or one of its dependencies). Try using the full path with constructor syntax.\nCould not find module 'impi.dll' (or one of its dependencies). Try using the full path with constructor syntax.\nCould not find module 'msmpi.dll' (or one of its dependencies). Try using the full path with constructor syntax."
     ]
    }
   ],
   "source": [
    "from mpi4py import MPI\n",
    "comm = MPI.COMM_WORLD\n",
    "rank = comm.Get_rank()\n",
    "size = comm.Get_size()"
   ]
  },
  {
   "cell_type": "code",
   "execution_count": 8,
   "id": "421ed11d-a518-4bcd-8880-28fae40f10df",
   "metadata": {
    "scrolled": true
   },
   "outputs": [
    {
     "ename": "RuntimeError",
     "evalue": "cannot load MPI library\nCould not find module 'C:\\Users\\Lenovo\\AppData\\Roaming\\Python\\DLLs' (or one of its dependencies). Try using the full path with constructor syntax.\nCould not find module 'C:\\Users\\Lenovo\\AppData\\Roaming\\Python\\Library\\bin' (or one of its dependencies). Try using the full path with constructor syntax.\nCould not find module 'C:\\Python312\\DLLs\\impi.dll' (or one of its dependencies). Try using the full path with constructor syntax.\nCould not find module 'C:\\Python312\\DLLs\\msmpi.dll' (or one of its dependencies). Try using the full path with constructor syntax.\nCould not find module 'C:\\Python312\\Library\\bin' (or one of its dependencies). Try using the full path with constructor syntax.\nCould not find module 'impi.dll' (or one of its dependencies). Try using the full path with constructor syntax.\nCould not find module 'msmpi.dll' (or one of its dependencies). Try using the full path with constructor syntax.",
     "output_type": "error",
     "traceback": [
      "\u001b[1;31m---------------------------------------------------------------------------\u001b[0m",
      "\u001b[1;31mRuntimeError\u001b[0m                              Traceback (most recent call last)",
      "Cell \u001b[1;32mIn[8], line 1\u001b[0m\n\u001b[1;32m----> 1\u001b[0m \u001b[38;5;28;01mfrom\u001b[39;00m \u001b[38;5;21;01mmpi4py\u001b[39;00m \u001b[38;5;28;01mimport\u001b[39;00m MPI\n\u001b[0;32m      3\u001b[0m comm \u001b[38;5;241m=\u001b[39m MPI\u001b[38;5;241m.\u001b[39mCOMM_WORLD\n\u001b[0;32m      4\u001b[0m \u001b[38;5;28mprint\u001b[39m(\u001b[38;5;124m\"\u001b[39m\u001b[38;5;124mHello from rank\u001b[39m\u001b[38;5;124m\"\u001b[39m, comm\u001b[38;5;241m.\u001b[39mGet_rank(), \u001b[38;5;124m\"\u001b[39m\u001b[38;5;124mout of\u001b[39m\u001b[38;5;124m\"\u001b[39m, comm\u001b[38;5;241m.\u001b[39mGet_size(), \u001b[38;5;124m\"\u001b[39m\u001b[38;5;124mprocesses\u001b[39m\u001b[38;5;124m\"\u001b[39m)\n",
      "File \u001b[1;32m<frozen importlib._bootstrap>:1360\u001b[0m, in \u001b[0;36m_find_and_load\u001b[1;34m(name, import_)\u001b[0m\n",
      "File \u001b[1;32m<frozen importlib._bootstrap>:1322\u001b[0m, in \u001b[0;36m_find_and_load_unlocked\u001b[1;34m(name, import_)\u001b[0m\n",
      "File \u001b[1;32m<frozen importlib._bootstrap>:1262\u001b[0m, in \u001b[0;36m_find_spec\u001b[1;34m(name, path, target)\u001b[0m\n",
      "File \u001b[1;32mC:\\Python312\\Lib\\site-packages\\mpi4py\\_mpiabi.py:246\u001b[0m, in \u001b[0;36m_Finder.find_spec\u001b[1;34m(cls, fullname, path, target)\u001b[0m\n\u001b[0;32m    244\u001b[0m \u001b[38;5;250m\u001b[39m\u001b[38;5;124;03m\"\"\"Find MPI ABI extension module spec.\"\"\"\u001b[39;00m\n\u001b[0;32m    245\u001b[0m \u001b[38;5;66;03m# pylint: disable=unused-argument\u001b[39;00m\n\u001b[1;32m--> 246\u001b[0m mpiabi_suffix \u001b[38;5;241m=\u001b[39m \u001b[43m_get_mpiabi_suffix\u001b[49m\u001b[43m(\u001b[49m\u001b[43mfullname\u001b[49m\u001b[43m)\u001b[49m\n\u001b[0;32m    247\u001b[0m \u001b[38;5;28;01mif\u001b[39;00m mpiabi_suffix \u001b[38;5;129;01mis\u001b[39;00m \u001b[38;5;28;01mNone\u001b[39;00m:\n\u001b[0;32m    248\u001b[0m     \u001b[38;5;28;01mreturn\u001b[39;00m \u001b[38;5;28;01mNone\u001b[39;00m\n",
      "File \u001b[1;32mC:\\Python312\\Lib\\site-packages\\mpi4py\\_mpiabi.py:228\u001b[0m, in \u001b[0;36m_get_mpiabi_suffix\u001b[1;34m(module)\u001b[0m\n\u001b[0;32m    226\u001b[0m \u001b[38;5;28;01mif\u001b[39;00m module \u001b[38;5;129;01mnot\u001b[39;00m \u001b[38;5;129;01min\u001b[39;00m _registry:\n\u001b[0;32m    227\u001b[0m     \u001b[38;5;28;01mreturn\u001b[39;00m \u001b[38;5;28;01mNone\u001b[39;00m\n\u001b[1;32m--> 228\u001b[0m version, family \u001b[38;5;241m=\u001b[39m \u001b[43m_get_mpiabi\u001b[49m\u001b[43m(\u001b[49m\u001b[43m)\u001b[49m\n\u001b[0;32m    229\u001b[0m versions \u001b[38;5;241m=\u001b[39m _registry[module]\u001b[38;5;241m.\u001b[39mget(family)\n\u001b[0;32m    230\u001b[0m \u001b[38;5;28;01mif\u001b[39;00m versions:\n",
      "File \u001b[1;32mC:\\Python312\\Lib\\site-packages\\mpi4py\\_mpiabi.py:209\u001b[0m, in \u001b[0;36m_get_mpiabi\u001b[1;34m()\u001b[0m\n\u001b[0;32m    207\u001b[0m     version, family \u001b[38;5;241m=\u001b[39m _get_mpiabi_from_string(string)\n\u001b[0;32m    208\u001b[0m \u001b[38;5;28;01melse\u001b[39;00m:\n\u001b[1;32m--> 209\u001b[0m     version, family \u001b[38;5;241m=\u001b[39m \u001b[43m_get_mpiabi_from_libmpi\u001b[49m\u001b[43m(\u001b[49m\u001b[43mlibmpi\u001b[49m\u001b[43m)\u001b[49m\n\u001b[0;32m    210\u001b[0m _get_mpiabi\u001b[38;5;241m.\u001b[39mversion \u001b[38;5;241m=\u001b[39m version  \u001b[38;5;66;03m# pyright: ignore\u001b[39;00m\n\u001b[0;32m    211\u001b[0m _get_mpiabi\u001b[38;5;241m.\u001b[39mfamily \u001b[38;5;241m=\u001b[39m family  \u001b[38;5;66;03m# pyright: ignore\u001b[39;00m\n",
      "File \u001b[1;32mC:\\Python312\\Lib\\site-packages\\mpi4py\\_mpiabi.py:153\u001b[0m, in \u001b[0;36m_get_mpiabi_from_libmpi\u001b[1;34m(libmpi)\u001b[0m\n\u001b[0;32m    150\u001b[0m \u001b[38;5;28;01mdef\u001b[39;00m \u001b[38;5;21m_get_mpiabi_from_libmpi\u001b[39m(libmpi\u001b[38;5;241m=\u001b[39m\u001b[38;5;28;01mNone\u001b[39;00m):\n\u001b[0;32m    151\u001b[0m     \u001b[38;5;66;03m# pylint: disable=import-outside-toplevel\u001b[39;00m\n\u001b[0;32m    152\u001b[0m     \u001b[38;5;28;01mimport\u001b[39;00m \u001b[38;5;21;01mctypes\u001b[39;00m \u001b[38;5;28;01mas\u001b[39;00m \u001b[38;5;21;01mct\u001b[39;00m\n\u001b[1;32m--> 153\u001b[0m     lib \u001b[38;5;241m=\u001b[39m \u001b[43m_dlopen_libmpi\u001b[49m\u001b[43m(\u001b[49m\u001b[43mlibmpi\u001b[49m\u001b[43m)\u001b[49m\n\u001b[0;32m    154\u001b[0m     lib\u001b[38;5;241m.\u001b[39mMPI_Get_version\u001b[38;5;241m.\u001b[39mrestype \u001b[38;5;241m=\u001b[39m ct\u001b[38;5;241m.\u001b[39mc_int\n\u001b[0;32m    155\u001b[0m     lib\u001b[38;5;241m.\u001b[39mMPI_Get_version\u001b[38;5;241m.\u001b[39margtypes \u001b[38;5;241m=\u001b[39m [ct\u001b[38;5;241m.\u001b[39mPOINTER(ct\u001b[38;5;241m.\u001b[39mc_int)] \u001b[38;5;241m*\u001b[39m \u001b[38;5;241m2\u001b[39m\n",
      "File \u001b[1;32mC:\\Python312\\Lib\\site-packages\\mpi4py\\_mpiabi.py:144\u001b[0m, in \u001b[0;36m_dlopen_libmpi\u001b[1;34m(libmpi)\u001b[0m\n\u001b[0;32m    142\u001b[0m     \u001b[38;5;28;01mexcept\u001b[39;00m \u001b[38;5;167;01mAttributeError\u001b[39;00m \u001b[38;5;28;01mas\u001b[39;00m exc:\n\u001b[0;32m    143\u001b[0m         errors\u001b[38;5;241m.\u001b[39mappend(\u001b[38;5;28mstr\u001b[39m(exc))\n\u001b[1;32m--> 144\u001b[0m \u001b[38;5;28;01mraise\u001b[39;00m \u001b[38;5;167;01mRuntimeError\u001b[39;00m(\u001b[38;5;124m\"\u001b[39m\u001b[38;5;130;01m\\n\u001b[39;00m\u001b[38;5;124m\"\u001b[39m\u001b[38;5;241m.\u001b[39mjoin(errors))\n",
      "\u001b[1;31mRuntimeError\u001b[0m: cannot load MPI library\nCould not find module 'C:\\Users\\Lenovo\\AppData\\Roaming\\Python\\DLLs' (or one of its dependencies). Try using the full path with constructor syntax.\nCould not find module 'C:\\Users\\Lenovo\\AppData\\Roaming\\Python\\Library\\bin' (or one of its dependencies). Try using the full path with constructor syntax.\nCould not find module 'C:\\Python312\\DLLs\\impi.dll' (or one of its dependencies). Try using the full path with constructor syntax.\nCould not find module 'C:\\Python312\\DLLs\\msmpi.dll' (or one of its dependencies). Try using the full path with constructor syntax.\nCould not find module 'C:\\Python312\\Library\\bin' (or one of its dependencies). Try using the full path with constructor syntax.\nCould not find module 'impi.dll' (or one of its dependencies). Try using the full path with constructor syntax.\nCould not find module 'msmpi.dll' (or one of its dependencies). Try using the full path with constructor syntax."
     ]
    }
   ],
   "source": [
    "from mpi4py import MPI\n",
    "\n",
    "comm = MPI.COMM_WORLD\n",
    "print(\"Hello from rank\", comm.Get_rank(), \"out of\", comm.Get_size(), \"processes\")"
   ]
  },
  {
   "cell_type": "code",
   "execution_count": null,
   "id": "3fce15a9-c405-4eb6-8a4f-d6ac4d6ea6ad",
   "metadata": {},
   "outputs": [],
   "source": []
  }
 ],
 "metadata": {
  "kernelspec": {
   "display_name": "Python 3 (ipykernel)",
   "language": "python",
   "name": "python3"
  },
  "language_info": {
   "codemirror_mode": {
    "name": "ipython",
    "version": 3
   },
   "file_extension": ".py",
   "mimetype": "text/x-python",
   "name": "python",
   "nbconvert_exporter": "python",
   "pygments_lexer": "ipython3",
   "version": "3.12.1"
  }
 },
 "nbformat": 4,
 "nbformat_minor": 5
}
